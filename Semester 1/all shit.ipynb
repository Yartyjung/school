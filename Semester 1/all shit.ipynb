{
 "cells": [
  {
   "cell_type": "code",
   "execution_count": 1,
   "metadata": {},
   "outputs": [],
   "source": [
    "import math\n",
    "import cv2 as cv\n",
    "import numpy as np"
   ]
  },
  {
   "cell_type": "code",
   "execution_count": null,
   "metadata": {},
   "outputs": [],
   "source": [
    "hour , minute = int(input(\"Hour : \")) , int(input(\"minute : \"))\n",
    "if hour < 0 or minute < 0 : print(\"time can not be negative\")\n",
    "else : print(f\"parking fees : {((math.ceil(minute/60) + hour)*30)-30} bath\")"
   ]
  },
  {
   "cell_type": "code",
   "execution_count": null,
   "metadata": {},
   "outputs": [],
   "source": [
    "img = cv.imread(\"custom-nike-air-force-1-mid-by-you-shoes.png\",0)\n",
    "x,y = np.shape(img)\n",
    "print(img)\n",
    "for i in range(x):\n",
    "    for j in range(y):\n",
    "        if img[i][j] >= 170 :\n",
    "            img[i][j] = 0\n",
    "        else : img[i][j] = 220\n",
    "\n",
    "cv.imshow(\"wow\",img)\n",
    "cv.waitKey(0)\n",
    "\n",
    "\n",
    "\n"
   ]
  },
  {
   "cell_type": "code",
   "execution_count": null,
   "metadata": {},
   "outputs": [],
   "source": [
    "video_cap = cv.VideoCapture(0)\n",
    "while(video_cap.isOpened()):\n",
    "    ret,frame = video_cap.read()\n",
    "    cv.imshow('frame',frame)\n",
    "    key = cv.waitKey(33)\n",
    "    if key == ord(\"q\"):\n",
    "        break\n",
    "video_cap.release()\n",
    "cv.destroyAllWindows()"
   ]
  },
  {
   "cell_type": "code",
   "execution_count": null,
   "metadata": {},
   "outputs": [],
   "source": [
    "flower = cv.imread(\"test.png\")\n",
    "np.shape(flower)\n",
    "cropped = flower[84:270,125:375]\n",
    "cv.imshow(\"crop\",cropped)\n",
    "cv.waitKey(0)\n",
    "cv.destroyAllWindows()\n"
   ]
  },
  {
   "cell_type": "code",
   "execution_count": 8,
   "metadata": {},
   "outputs": [],
   "source": [
    "image = cv.imread(\"image-15.png\")\n",
    "row,col = np.shape(image)[:2]\n",
    "def choise1():\n",
    "    mat = np.float32([[1,0,50],\n",
    "                      [0,1,30]])\n",
    "    img = cv.warpAffine(image,mat,(col,row))\n",
    "    return img\n",
    "def choise2():\n",
    "    mat = cv.getRotationMatrix2D((col/2,row/2),45,1)\n",
    "    img = cv.warpAffine(image,mat,(col,row))\n",
    "    return img\n",
    "def choise3():\n",
    "    img = cv.resize(image,None,fx=2,fy=0.5,interpolation=cv.INTER_LINEAR)\n",
    "    return img\n",
    "def choise4():\n",
    "    mat = cv.getRotationMatrix2D((col/2,row/2),30,1)\n",
    "    mat2 = np.float32([[1,0,100],\n",
    "                      [0,1,0]])\n",
    "    img = cv.warpAffine(image,mat2,(col,row))\n",
    "    img2 = cv.warpAffine(img,mat,(col,row))\n",
    "\n",
    "    img2 = cv.resize(img2,None,fx=1,fy=2,interpolation=cv.INTER_LINEAR)\n",
    "    return img2\n",
    "\n",
    "cv.imshow(\"1\",choise1())\n",
    "cv.imshow(\"2\",choise2())\n",
    "cv.imshow(\"3\",choise3())\n",
    "cv.imshow(\"4\",choise4())\n",
    "cv.waitKey(0)\n",
    "cv.destroyAllWindows()"
   ]
  },
  {
   "cell_type": "code",
   "execution_count": 14,
   "metadata": {},
   "outputs": [],
   "source": [
    "img = cv.imread(\"steven he.jpg\")\n",
    "import datetime\n",
    "cv.rectangle(img,(65,160),(820,80),(0,0,0),-1)\n",
    "cv.rectangle(img,(65,775),(580,720),(0,0,0),-1)\n",
    "cv.putText(img,\"emotional damage\",(70,140),fontFace=1,color=(0,0,255),fontScale=5,thickness=5)\n",
    "cv.putText(img,str(datetime.datetime.now()),(70,760),fontFace=1,color=(0,0,255),fontScale=2,thickness=5)\n",
    "cv.imshow(\"steven\",img)\n",
    "cv.waitKey(0)\n",
    "cv.destroyAllWindows()"
   ]
  },
  {
   "cell_type": "code",
   "execution_count": 25,
   "metadata": {},
   "outputs": [],
   "source": [
    "img = np.full((600,600,3),255,dtype=\"uint8\")\n",
    "cv.rectangle(img,(200,250),(400,350),(220,140,0),-1)\n",
    "cv.circle(img,(300,300),50,(0,20,255),-1)\n",
    "cv.line(img,(0,0),(600,600),(50,255,0),7)\n",
    "cv.putText(img,\"OpenCV Homework\",(20,580),fontFace=1,fontScale=1,color=(0,0,0),thickness=2)\n",
    "\n",
    "cv.imshow(\"img\",img)\n",
    "cv.waitKey(0)\n",
    "cv.destroyAllWindows()"
   ]
  },
  {
   "cell_type": "code",
   "execution_count": 3,
   "metadata": {},
   "outputs": [
    {
     "ename": "ValueError",
     "evalue": "not enough values to unpack (expected 3, got 0)",
     "output_type": "error",
     "traceback": [
      "\u001b[1;31m---------------------------------------------------------------------------\u001b[0m",
      "\u001b[1;31mValueError\u001b[0m                                Traceback (most recent call last)",
      "Cell \u001b[1;32mIn[3], line 5\u001b[0m\n\u001b[0;32m      3\u001b[0m \u001b[38;5;28;01mwhile\u001b[39;00m(\u001b[38;5;28;01mTrue\u001b[39;00m): \n\u001b[0;32m      4\u001b[0m     ret, frame \u001b[38;5;241m=\u001b[39m vid\u001b[38;5;241m.\u001b[39mread() \n\u001b[1;32m----> 5\u001b[0m     y,x,_ \u001b[38;5;241m=\u001b[39m np\u001b[38;5;241m.\u001b[39mshape(frame)\n\u001b[0;32m      6\u001b[0m     cv\u001b[38;5;241m.\u001b[39mcircle(frame,(\u001b[38;5;28mint\u001b[39m(x\u001b[38;5;241m/\u001b[39m\u001b[38;5;241m2\u001b[39m),\u001b[38;5;28mint\u001b[39m(y\u001b[38;5;241m/\u001b[39m\u001b[38;5;241m2\u001b[39m)),\u001b[38;5;241m50\u001b[39m,(\u001b[38;5;241m50\u001b[39m,\u001b[38;5;241m255\u001b[39m,\u001b[38;5;241m0\u001b[39m),\u001b[38;5;241m5\u001b[39m)\n\u001b[0;32m      7\u001b[0m     cv\u001b[38;5;241m.\u001b[39mrectangle(frame,(\u001b[38;5;241m0\u001b[39m,\u001b[38;5;241m0\u001b[39m),(x,y),(\u001b[38;5;241m220\u001b[39m,\u001b[38;5;241m140\u001b[39m,\u001b[38;5;241m0\u001b[39m),\u001b[38;5;241m20\u001b[39m)\n",
      "\u001b[1;31mValueError\u001b[0m: not enough values to unpack (expected 3, got 0)"
     ]
    }
   ],
   "source": [
    "vid = cv.VideoCapture(0) #(480, 640, 3)\n",
    "# vid = cv.VideoCapture(\"that vdo.mp4\")  \n",
    "while(True): \n",
    "    ret, frame = vid.read() \n",
    "    y,x,_ = np.shape(frame)\n",
    "    cv.circle(frame,(int(x/2),int(y/2)),50,(50,255,0),5)\n",
    "    cv.rectangle(frame,(0,0),(x,y),(220,140,0),20)\n",
    "    cv.line(frame,(0,0),(x,y),(0,20,255),7)\n",
    "    cv.putText(frame,\"Live Video\",(20,30),fontFace=1,fontScale=1,color=(0,0,0),thickness=2)\n",
    "\n",
    "    cv.imshow('frame', frame) \n",
    "      \n",
    "\n",
    "    if cv.waitKey(1) & 0xFF == ord('0'): \n",
    "        break\n",
    "  \n",
    "\n",
    "vid.release() \n",
    "print(np.shape(frame))\n",
    "cv.destroyAllWindows() "
   ]
  }
 ],
 "metadata": {
  "kernelspec": {
   "display_name": "Python 3",
   "language": "python",
   "name": "python3"
  },
  "language_info": {
   "codemirror_mode": {
    "name": "ipython",
    "version": 3
   },
   "file_extension": ".py",
   "mimetype": "text/x-python",
   "name": "python",
   "nbconvert_exporter": "python",
   "pygments_lexer": "ipython3",
   "version": "3.12.3"
  }
 },
 "nbformat": 4,
 "nbformat_minor": 2
}
